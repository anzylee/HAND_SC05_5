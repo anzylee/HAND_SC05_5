{
 "cells": [
  {
   "cell_type": "markdown",
   "metadata": {
    "slideshow": {
     "slide_type": "slide"
    },
    "tags": [
     "title"
    ]
   },
   "source": [
    "# HAND and Flood Emergency Response\n",
    "\n",
    "This Jupyter notebook illustrates the HAND workflow and its use in example flood emergency scenarios. The study area is Onion Creek (HUC10 code 1209020504).\n",
    "\n",
    "This is also a demonstration of conducting geospatial anlysis with opensource toolkits (gdal) using an online Jupyter interface.\n",
    "\n",
    "Environment required: CyberGIS-Jupyter for Water"
   ]
  },
  {
   "cell_type": "markdown",
   "metadata": {
    "slideshow": {
     "slide_type": "subslide"
    },
    "tags": [
     "figure"
    ]
   },
   "source": [
    "![](https://camo.githubusercontent.com/b4a3f72e68690da6ee5726fe2f2d8711c9d314ce/68747470733a2f2f7765622e636f7272616c2e746163632e7574657861732e6564752f6e666965646174612f646f63732f68616e642d776f726b666c6f772e706e67)"
   ]
  },
  {
   "cell_type": "markdown",
   "metadata": {
    "slideshow": {
     "slide_type": "subslide"
    },
    "tags": [
     "instruction"
    ]
   },
   "source": [
    "- We use CyberGIS' accelerated TauDEM version for d8 and d$\\infty$ flow direction calculation.\n",
    "    >More about [TauDEM](http://hydrology.usu.edu/taudem/taudem5/index.html)\n",
    "\n",
    "\n",
    "- The USGS 3DEP Elevation dataset (a.k.a. National Elevation Dataset) is deployed on ROGER as a VRT raster.\n",
    "\n",
    "- The NHDPlus and associated water boundary dataset (WBD) are in Esri FileGDB format."
   ]
  },
  {
   "cell_type": "markdown",
   "metadata": {
    "slideshow": {
     "slide_type": "slide"
    },
    "tags": [
     "instruction"
    ]
   },
   "source": [
    "# 1. Data preparation and pre-processing"
   ]
  },
  {
   "cell_type": "code",
   "execution_count": 18,
   "metadata": {},
   "outputs": [],
   "source": [
    "# Program file path\n",
    "import os\n",
    "data_dir = '/home/jovyan/shared_data/data/onion-hand'\n",
    "find_inlets = os.path.join(data_dir, 'find_inlets/build/find_inlets_mr')\n",
    "    \n",
    "# Format and performance parameters\n",
    "np=os.cpu_count()\n",
    "dsepsg=\"EPSG:4269\"\n",
    "bufferdist='0.2' "
   ]
  },
  {
   "cell_type": "markdown",
   "metadata": {
    "slideshow": {
     "slide_type": "subslide"
    }
   },
   "source": [
    "<img src=\"http://cybergis.cigi.uiuc.edu/images/v5.svg\" width=\"15\" style=\"float:left\"/>&nbsp;<span style=\"font-family:Times; font-size:1.2em\">\n",
    "Fetch the hands-on example data, from [*GIS in Water Resources*](http://hydrology.usu.edu/dtarb/giswr/2016/) (USU CEE6440, UT Austin CE 394K.3)"
   ]
  },
  {
   "cell_type": "code",
   "execution_count": 19,
   "metadata": {},
   "outputs": [],
   "source": [
    "!cp -r {data_dir} data"
   ]
  },
  {
   "cell_type": "markdown",
   "metadata": {
    "slideshow": {
     "slide_type": "-"
    }
   },
   "source": [
    "<img src=\"http://cybergis.cigi.uiuc.edu/images/v5.svg\" width=\"15\" style=\"float:left\"/>&nbsp;<span style=\"font-family:Times; font-size:1.2em\">\n",
    "The study area is Onion Creek in Texas. This watershed is a HUC10 unit with code 1209020504.\n",
    "<!--In this demo notebook, we directly use flowline shp file for the input DEM.<br>\n",
    "Extracting flowlines from NHDPlus is left as an exercise for you to get familiar with GDAL OGR utility. <br>-->\n",
    " <!--You can get the WBD for this unit and conduct a spatial query on NHDPlus to get the flowlines.--></span>"
   ]
  },
  {
   "cell_type": "code",
   "execution_count": 20,
   "metadata": {},
   "outputs": [
    {
     "name": "stdout",
     "output_type": "stream",
     "text": [
      "INFO: Open of `data/OnionHand.gdb'\n",
      "      using driver `OpenFileGDB' successful.\n",
      "1: StreamGage (3D Measured Point)\n",
      "2: NHDFlowline (3D Measured Multi Line String)\n",
      "3: Catchment (Multi Polygon)\n",
      "4: Watershed (Multi Polygon)\n",
      "5: AddressPt (Point)\n"
     ]
    }
   ],
   "source": [
    "!ogrinfo data/OnionHand.gdb"
   ]
  },
  {
   "cell_type": "code",
   "execution_count": 21,
   "metadata": {
    "scrolled": true,
    "slideshow": {
     "slide_type": "subslide"
    }
   },
   "outputs": [
    {
     "name": "stdout",
     "output_type": "stream",
     "text": [
      "Driver: GTiff/GeoTIFF\n",
      "Files: data/Onion3.tif\n",
      "Size is 7864, 2761\n",
      "Coordinate System is:\n",
      "GEOGCS[\"GCS_North_American_1983\",\n",
      "    DATUM[\"D_North_American_1983\",\n",
      "        SPHEROID[\"GRS_1980\",6378137.0,298.257222101]],\n",
      "    PRIMEM[\"Greenwich\",0.0],\n",
      "    UNIT[\"Degree\",0.017453292519943295],\n",
      "    VERTCS[\"Unknown VCS\",\n",
      "        VDATUM[\"Unknown\"],\n",
      "        PARAMETER[\"Vertical_Shift\",0.0],\n",
      "        PARAMETER[\"Direction\",1.0],\n",
      "        UNIT[\"Meter\",1.0]]]\n",
      "Origin = (-98.307685185190977,30.270277778898251)\n",
      "Pixel Size = (0.000092592593000,-0.000092592593000)\n",
      "Metadata:\n",
      "  AREA_OR_POINT=Area\n",
      "Image Structure Metadata:\n",
      "  COMPRESSION=LZW\n",
      "  INTERLEAVE=BAND\n",
      "Corner Coordinates:\n",
      "Upper Left  ( -98.3076852,  30.2702778) (  1d42'56.85\"W,  0d31'41.94\"N)\n",
      "Lower Left  ( -98.3076852,  30.0146296) (  1d42'56.85\"W,  0d31'25.87\"N)\n",
      "Upper Right ( -97.5795370,  30.2702778) (  1d42'11.10\"W,  0d31'41.94\"N)\n",
      "Lower Right ( -97.5795370,  30.0146296) (  1d42'11.10\"W,  0d31'25.87\"N)\n",
      "Center      ( -97.9436111,  30.1424537) (  1d42'33.98\"W,  0d31'33.91\"N)\n",
      "Band 1 Block=7864x1 Type=Float32, ColorInterp=Gray\n",
      "  Min=113.184 Max=513.462 \n",
      "  Minimum=113.184, Maximum=513.462, Mean=277.847, StdDev=90.398\n",
      "  NoData Value=-1\n",
      "  Metadata:\n",
      "    STATISTICS_COVARIANCES=8171.746395834145\n",
      "    STATISTICS_MAXIMUM=513.4619140625\n",
      "    STATISTICS_MEAN=277.84672138896\n",
      "    STATISTICS_MINIMUM=113.18444061279\n",
      "    STATISTICS_SKIPFACTORX=1\n",
      "    STATISTICS_SKIPFACTORY=1\n",
      "    STATISTICS_STDDEV=90.397712337394\n"
     ]
    }
   ],
   "source": [
    "!gdalinfo data/Onion3.tif"
   ]
  },
  {
   "cell_type": "markdown",
   "metadata": {},
   "source": [
    ">More about [ogrinfo](http://www.gdal.org/ogrinfo.html) and [gdalinfo](http://www.gdal.org/gdalinfo.html)"
   ]
  },
  {
   "cell_type": "markdown",
   "metadata": {
    "slideshow": {
     "slide_type": "subslide"
    }
   },
   "source": [
    "<img src=\"http://cybergis.cigi.uiuc.edu/images/v5.svg\" width=\"15\" style=\"float:left\"/>&nbsp;<span style=\"font-family:Times; font-size:1.2em\">\n",
    "To visualize a GeoTIFF, we need to:\n",
    " - Render color from values.\n",
    " - Make tiles (pyramids) from the colored image."
   ]
  },
  {
   "cell_type": "code",
   "execution_count": 22,
   "metadata": {},
   "outputs": [
    {
     "name": "stdout",
     "output_type": "stream",
     "text": [
      "0...10...20...30...40...50...60...70...80...90...100 - done.\n"
     ]
    }
   ],
   "source": [
    "# Colorize using hillshade\n",
    "!gdaldem hillshade data/Onion3.tif Onion3-hillshade.tif"
   ]
  },
  {
   "cell_type": "code",
   "execution_count": 23,
   "metadata": {},
   "outputs": [
    {
     "name": "stdout",
     "output_type": "stream",
     "text": [
      "Warning 1: VRTDataset>, band 1: NODATA_VALUES metadata item doesn't have the same number of values as the number of bands.  Ignoring it for mask.\n",
      "Generating Base Tiles:\n",
      "0Generating Overview Tiles:\n",
      "0...10...20...30...40...50...60...70...80...90...100\n"
     ]
    }
   ],
   "source": [
    "# Make tiles with gdal2tiles (this is needed for visualization)\n",
    "!gdal2tiles.py -t \"Onion Creek DEM\" -e -z 9-14 -a 0,0,0 -s epsg:4326\\\n",
    "    -r bilinear Onion3-hillshade.tif Onion3-hillshade "
   ]
  },
  {
   "cell_type": "markdown",
   "metadata": {},
   "source": [
    ">More about [gdaldem](http://www.gdal.org/gdaldem.html) and [gdal2tiles.py](http://www.gdal.org/gdal2tiles.html)"
   ]
  },
  {
   "cell_type": "markdown",
   "metadata": {
    "slideshow": {
     "slide_type": "subslide"
    }
   },
   "source": [
    "<img src=\"http://cybergis.cigi.uiuc.edu/images/v5.svg\" width=\"15\" style=\"float:left\"/>&nbsp;<span style=\"font-family:Times; font-size:1.2em\">\n",
    "To visualize a Shapefile, we only need to convert it to GeoJson"
   ]
  },
  {
   "cell_type": "code",
   "execution_count": 24,
   "metadata": {},
   "outputs": [],
   "source": [
    "# Extract flowline.shp from GeoDatabase (which will be used later)\n",
    "!ogr2ogr -f \"ESRI Shapefile\" flowline.shp data/OnionHand.gdb NHDFlowline 2>/dev/null"
   ]
  },
  {
   "cell_type": "code",
   "execution_count": 25,
   "metadata": {},
   "outputs": [
    {
     "name": "stdout",
     "output_type": "stream",
     "text": [
      "Warning 1: The output driver does not natively support Date type for field FDATE. Misconversion can happen. -mapFieldType can be used to control field type conversion.\n"
     ]
    }
   ],
   "source": [
    "# Convert the Shapefile to GeoJson for visualization\n",
    "!ogr2ogr -f geojson flowline.json flowline.shp"
   ]
  },
  {
   "cell_type": "markdown",
   "metadata": {},
   "source": [
    ">More about [ogr2ogr](http://www.gdal.org/ogr2ogr.html)"
   ]
  },
  {
   "cell_type": "code",
   "execution_count": 26,
   "metadata": {
    "slideshow": {
     "slide_type": "subslide"
    }
   },
   "outputs": [
    {
     "ename": "ModuleNotFoundError",
     "evalue": "No module named 'cybergis'",
     "output_type": "error",
     "traceback": [
      "\u001b[0;31m---------------------------------------------------------------------------\u001b[0m",
      "\u001b[0;31mModuleNotFoundError\u001b[0m                       Traceback (most recent call last)",
      "\u001b[0;32m<ipython-input-26-8c3b7aaa339a>\u001b[0m in \u001b[0;36m<module>\u001b[0;34m\u001b[0m\n\u001b[0;32m----> 1\u001b[0;31m \u001b[0;32mfrom\u001b[0m \u001b[0mcybergis\u001b[0m \u001b[0;32mimport\u001b[0m \u001b[0mFloret\u001b[0m\u001b[0;34m\u001b[0m\u001b[0;34m\u001b[0m\u001b[0m\n\u001b[0m\u001b[1;32m      2\u001b[0m \u001b[0mFloret\u001b[0m\u001b[0;34m(\u001b[0m\u001b[0;34m'Onion Creek DEM'\u001b[0m\u001b[0;34m,\u001b[0m \u001b[0;34m'input'\u001b[0m\u001b[0;34m)\u001b[0m\u001b[0;31m\\\u001b[0m\u001b[0;34m\u001b[0m\u001b[0;34m\u001b[0m\u001b[0m\n\u001b[1;32m      3\u001b[0m \u001b[0;34m.\u001b[0m\u001b[0maddTMSLayer\u001b[0m\u001b[0;34m(\u001b[0m\u001b[0;34m'DEM'\u001b[0m\u001b[0;34m,\u001b[0m\u001b[0;34m'Onion3-hillshade'\u001b[0m\u001b[0;34m)\u001b[0m\u001b[0;31m\\\u001b[0m\u001b[0;34m\u001b[0m\u001b[0;34m\u001b[0m\u001b[0m\n\u001b[1;32m      4\u001b[0m \u001b[0;34m.\u001b[0m\u001b[0maddGeoJson\u001b[0m\u001b[0;34m(\u001b[0m\u001b[0;34m'Flowline'\u001b[0m\u001b[0;34m,\u001b[0m\u001b[0;34m'flowline.json'\u001b[0m\u001b[0;34m)\u001b[0m\u001b[0;34m.\u001b[0m\u001b[0mdisplay\u001b[0m\u001b[0;34m(\u001b[0m\u001b[0;34m)\u001b[0m\u001b[0;34m\u001b[0m\u001b[0;34m\u001b[0m\u001b[0m\n",
      "\u001b[0;31mModuleNotFoundError\u001b[0m: No module named 'cybergis'"
     ]
    }
   ],
   "source": [
    "from cybergis import Floret\n",
    "Floret('Onion Creek DEM', 'input')\\\n",
    ".addTMSLayer('DEM','Onion3-hillshade')\\\n",
    ".addGeoJson('Flowline','flowline.json').display()"
   ]
  },
  {
   "cell_type": "markdown",
   "metadata": {
    "slideshow": {
     "slide_type": "slide"
    }
   },
   "source": [
    "# 2. Workflow for computing HAND\n",
    "\n",
    "\n",
    "## 2.1 Find inlets\n",
    "<img src=\"http://cybergis.cigi.uiuc.edu/images/v5.svg\" width=\"15\" style=\"float:left\"/>&nbsp;<span style=\"font-family:Times; font-size:1.2em\">\n",
    "Use the dangle operation to find channel heads (inlets) of streams. They will guide the DEM-based stream calculation.</span>"
   ]
  },
  {
   "cell_type": "code",
   "execution_count": 1,
   "metadata": {},
   "outputs": [],
   "source": [
    "! which find_inlets"
   ]
  },
  {
   "cell_type": "code",
   "execution_count": 2,
   "metadata": {},
   "outputs": [],
   "source": [
    "!find_inlets_mr -flow flowline.shp -dangle flow-inlets0.shp\n",
    "!ogr2ogr -t_srs \"EPSG:4269\" flow-inlets.shp flow-inlets0.shp"
   ]
  },
  {
   "cell_type": "code",
   "execution_count": 3,
   "metadata": {},
   "outputs": [],
   "source": [
    "!ogr2ogr -f geojson flow-inlets.json flow-inlets.shp"
   ]
  },
  {
   "cell_type": "code",
   "execution_count": 4,
   "metadata": {
    "scrolled": true,
    "slideshow": {
     "slide_type": "subslide"
    }
   },
   "outputs": [
    {
     "ename": "ModuleNotFoundError",
     "evalue": "No module named 'cybergis'",
     "output_type": "error",
     "traceback": [
      "\u001b[0;31m---------------------------------------------------------------------------\u001b[0m",
      "\u001b[0;31mModuleNotFoundError\u001b[0m                       Traceback (most recent call last)",
      "\u001b[0;32m<ipython-input-4-fd3e56854144>\u001b[0m in \u001b[0;36m<module>\u001b[0;34m\u001b[0m\n\u001b[0;32m----> 1\u001b[0;31m \u001b[0;32mfrom\u001b[0m \u001b[0mcybergis\u001b[0m \u001b[0;32mimport\u001b[0m \u001b[0mFloret\u001b[0m\u001b[0;34m\u001b[0m\u001b[0;34m\u001b[0m\u001b[0m\n\u001b[0m\u001b[1;32m      2\u001b[0m \u001b[0mFloret\u001b[0m\u001b[0;34m(\u001b[0m\u001b[0;34m'Flow Inlets'\u001b[0m\u001b[0;34m,\u001b[0m \u001b[0;34m'inlet'\u001b[0m\u001b[0;34m)\u001b[0m\u001b[0;34m.\u001b[0m\u001b[0maddTMSLayer\u001b[0m\u001b[0;34m(\u001b[0m\u001b[0;34m'DEM'\u001b[0m\u001b[0;34m,\u001b[0m\u001b[0;34m'Onion3-hillshade'\u001b[0m\u001b[0;34m)\u001b[0m\u001b[0;31m\\\u001b[0m\u001b[0;34m\u001b[0m\u001b[0;34m\u001b[0m\u001b[0m\n\u001b[1;32m      3\u001b[0m \u001b[0;34m.\u001b[0m\u001b[0maddGeoJson\u001b[0m\u001b[0;34m(\u001b[0m\u001b[0;34m'Flowline'\u001b[0m\u001b[0;34m,\u001b[0m \u001b[0;34m'flowline.json'\u001b[0m\u001b[0;34m)\u001b[0m\u001b[0;31m\\\u001b[0m\u001b[0;34m\u001b[0m\u001b[0;34m\u001b[0m\u001b[0m\n\u001b[1;32m      4\u001b[0m \u001b[0;34m.\u001b[0m\u001b[0maddGeoJson\u001b[0m\u001b[0;34m(\u001b[0m\u001b[0;34m'Inlets'\u001b[0m\u001b[0;34m,\u001b[0m\u001b[0;34m'flow-inlets.json'\u001b[0m\u001b[0;34m)\u001b[0m\u001b[0;31m\\\u001b[0m\u001b[0;34m\u001b[0m\u001b[0;34m\u001b[0m\u001b[0m\n\u001b[1;32m      5\u001b[0m \u001b[0;34m.\u001b[0m\u001b[0mdisplay\u001b[0m\u001b[0;34m(\u001b[0m\u001b[0;34m)\u001b[0m\u001b[0;34m\u001b[0m\u001b[0;34m\u001b[0m\u001b[0m\n",
      "\u001b[0;31mModuleNotFoundError\u001b[0m: No module named 'cybergis'"
     ]
    }
   ],
   "source": [
    "from cybergis import Floret\n",
    "Floret('Flow Inlets', 'inlet').addTMSLayer('DEM','Onion3-hillshade')\\\n",
    ".addGeoJson('Flowline', 'flowline.json')\\\n",
    ".addGeoJson('Inlets','flow-inlets.json')\\\n",
    ".display()"
   ]
  },
  {
   "cell_type": "markdown",
   "metadata": {
    "slideshow": {
     "slide_type": "subslide"
    }
   },
   "source": [
    "<img src=\"http://cybergis.cigi.uiuc.edu/images/v5.svg\" width=\"15\" style=\"float:left\"/>&nbsp;<span style=\"font-family:Times; font-size:1.2em\">\n",
    "Rasterize inlet points to the same spatial extent as the input DEM. The output is the weight grid.</span>"
   ]
  },
  {
   "cell_type": "code",
   "execution_count": 5,
   "metadata": {},
   "outputs": [
    {
     "name": "stdout",
     "output_type": "stream",
     "text": [
      "\u001b[0m\u001b[01;32mdata/getRasterInfo.py\u001b[0m*\n"
     ]
    }
   ],
   "source": [
    "ls data/getRasterInfo.py"
   ]
  },
  {
   "cell_type": "code",
   "execution_count": 6,
   "metadata": {
    "slideshow": {
     "slide_type": "-"
    },
    "tags": []
   },
   "outputs": [
    {
     "name": "stdout",
     "output_type": "stream",
     "text": [
      "<zip object at 0x7f39ade56730>\n",
      "fsizeDEM=\"84.6MB\"\n",
      "colsDEM=\"7864\"\n",
      "rowsDEM=\"2761\"\n",
      "nodataDEM=\"-1.0\"\n",
      "xmin=\"-98.30768518519098\"\n",
      "ymin=\"30.01462962962525\"\n",
      "xmax=\"-97.57953703383897\"\n",
      "ymax=\"30.27027777889825\"\n",
      "cellsize_resx=\"0.000092592593000\"\n",
      "cellsize_resy=\"0.000092592593000\"\n"
     ]
    }
   ],
   "source": [
    "# Getting format info of the reference tif\n",
    "import sys\n",
    "names='fsizeDEM colsDEM rowsDEM nodataDEM xmin ymin xmax ymax cellsize_resx cellsize_resy'.split()\n",
    "values=!{sys.executable} data/getRasterInfo.py data/Onion3.tif\n",
    "print(zip(names, values))\n",
    "for name,value in dict(zip(names,values)).items():\n",
    "   para='%s=\"%s\"'%(name,value)\n",
    "   print (para)\n",
    "   exec(para)"
   ]
  },
  {
   "cell_type": "code",
   "execution_count": 7,
   "metadata": {
    "slideshow": {
     "slide_type": "-"
    }
   },
   "outputs": [
    {
     "name": "stdout",
     "output_type": "stream",
     "text": [
      "0...10...20...30...40...50...60...70...80...90...100 - done.\n"
     ]
    }
   ],
   "source": [
    "!gdal_rasterize -ot Int16 -of GTiff -burn 1 -tr {cellsize_resx} {cellsize_resy} -te {xmin} {ymin} {xmax} {ymax} flow-inlets.shp weights.tif"
   ]
  },
  {
   "cell_type": "markdown",
   "metadata": {},
   "source": [
    ">More about [gdal_rasterize](http://www.gdal.org/gdal_rasterize.html)"
   ]
  },
  {
   "cell_type": "markdown",
   "metadata": {
    "slideshow": {
     "slide_type": "subslide"
    }
   },
   "source": [
    "## 2.2 Pitremove\n",
    "\n",
    "<img src=\"http://cybergis.cigi.uiuc.edu/images/v5.svg\" width=\"15\" style=\"float:left\"/>&nbsp;<span style=\"font-family:Times; font-size:1.2em\">\n",
    "Taudem pitremove: hydro-condition the DEM"
   ]
  },
  {
   "cell_type": "code",
   "execution_count": 2,
   "metadata": {},
   "outputs": [
    {
     "name": "stdout",
     "output_type": "stream",
     "text": [
      "PitRemove version 5.3.9\n",
      "Input file data/Onion3.tif has geographic coordinate system.\n",
      "Nodata value input to create partition from file: -1.000000\n",
      "Nodata value recast to float used in partition raster: -1.000000\n",
      "This run may take on the order of 1 minutes to complete.\n",
      "This estimate is very approximate. \n",
      "Run time is highly uncertain as it depends on the complexity of the input data \n",
      "and speed and memory of the computer. This estimate is based on our testing on \n",
      "a dual quad core Dell Xeon E5405 2.0GHz PC with 16GB RAM.\n",
      "Processes: 4\n",
      "Header read time: 0.051521\n",
      "Data read time: 0.139071\n",
      "Compute time: 2.389130\n",
      "Write time: 0.882480\n",
      "Total time: 3.462201\n"
     ]
    }
   ],
   "source": [
    "!mpirun -np 4 pitremove -z data/Onion3.tif -fel fel.tif"
   ]
  },
  {
   "cell_type": "markdown",
   "metadata": {
    "slideshow": {
     "slide_type": "subslide"
    }
   },
   "source": [
    "## 2.3 Compute flow direction\n",
    "\n",
    "<img src=\"http://cybergis.cigi.uiuc.edu/images/v5.svg\" width=\"15\" style=\"float:left\"/>&nbsp;<span style=\"font-family:Times; font-size:1.2em\">\n",
    "Taudem d$\\infty$: calc flow routing info that is used later to find the nearest stream from each cell</span>"
   ]
  },
  {
   "cell_type": "code",
   "execution_count": 3,
   "metadata": {
    "scrolled": true
   },
   "outputs": [
    {
     "name": "stdout",
     "output_type": "stream",
     "text": [
      "DinfFlowDir version 5.3.9\n",
      "Input file fel.tif has geographic coordinate system.\n",
      "Nodata value input to create partition from file: -300000000549775575777803994281145270272.000000\n",
      "Nodata value recast to float used in partition raster: -300000000549775575777803994281145270272.000000\n",
      "This run may take on the order of 5 minutes to complete.\n",
      "This estimate is very approximate. \n",
      "Run time is highly uncertain as it depends on the complexity of the input data \n",
      "and speed and memory of the computer. This estimate is based on our testing on \n",
      "a dual quad core Dell Xeon E5405 2.0GHz PC with 16GB RAM.\n",
      "All slopes evaluated. 405327 flats to resolve.\n",
      "Draining flats towards lower adjacent terrain\n",
      "...................................................................................................................................................................................................................................................................................................................................................................................................................................................................................................................................................................................................................................................................................................................................................................\n",
      "Draining flats away from higher adjacent terrain\n",
      "......................................................\n",
      "Setting directions\n",
      "Iteration complete. Number of flats remaining: 10307\n",
      "Draining flats towards lower adjacent terrain\n",
      "..................\n",
      "Draining flats away from higher adjacent terrain\n",
      ".............\n",
      "Setting directions\n",
      "Iteration complete. Number of flats remaining: 10\n",
      "Draining flats towards lower adjacent terrain\n",
      ".\n",
      "Draining flats away from higher adjacent terrain\n",
      "..\n",
      "Setting directions\n",
      "Processors: 4\n",
      "Header read time: 0.043129\n",
      "Data read time: 0.199621\n",
      "Compute Slope time: 2.791106\n",
      "Write Slope time: 0.962145\n",
      "Resolve Flat time: 26.214444\n",
      "Write Flat time: 0.866558\n",
      "Total time: 31.077003\n"
     ]
    }
   ],
   "source": [
    "!mpirun -np 4 dinfflowdir -fel fel.tif -ang ang.tif -slp slp.tif "
   ]
  },
  {
   "cell_type": "markdown",
   "metadata": {
    "slideshow": {
     "slide_type": "subslide"
    }
   },
   "source": [
    "<img src=\"http://cybergis.cigi.uiuc.edu/images/v5.svg\" width=\"15\" style=\"float:left\"/>&nbsp;<span style=\"font-family:Times; font-size:1.2em\">TauDEM d8: calc d8 flow directions for the computing of a stream grid weighted by the weight grid"
   ]
  },
  {
   "cell_type": "code",
   "execution_count": 4,
   "metadata": {
    "scrolled": true
   },
   "outputs": [
    {
     "name": "stdout",
     "output_type": "stream",
     "text": [
      "D8FlowDir version 5.3.9\n",
      "Input file fel.tif has geographic coordinate system.\n",
      "Nodata value input to create partition from file: -300000000549775575777803994281145270272.000000\n",
      "Nodata value recast to float used in partition raster: -300000000549775575777803994281145270272.000000\n",
      "This run may take on the order of 5 minutes to complete.\n",
      "This estimate is very approximate. \n",
      "Run time is highly uncertain as it depends on the complexity of the input data \n",
      "and speed and memory of the computer. This estimate is based on our testing on \n",
      "a dual quad core Dell Xeon E5405 2.0GHz PC with 16GB RAM.\n",
      "All slopes evaluated. 405327 flats to resolve.\n",
      "Draining flats towards lower adjacent terrain\n",
      "...................................................................................................................................................................................................................................................................................................................................................................................................................................................................................................................................................................................................................................................................................................................................................................\n",
      "Draining flats away from higher adjacent terrain\n",
      "......................................................\n",
      "Setting directions\n",
      "Iteration complete. Number of flats remaining: 10307\n",
      "Draining flats towards lower adjacent terrain\n",
      "..................\n",
      "Draining flats away from higher adjacent terrain\n",
      ".............\n",
      "Setting directions\n",
      "Iteration complete. Number of flats remaining: 10\n",
      "Draining flats towards lower adjacent terrain\n",
      ".\n",
      "Draining flats away from higher adjacent terrain\n",
      "..\n",
      "Setting directions\n",
      "Processors: 4\n",
      "Header read time: 0.045028\n",
      "Data read time: 0.123128\n",
      "Compute Slope time: 0.846184\n",
      "Write Slope time: 0.951006\n",
      "Resolve Flat time: 23.198353\n",
      "Write Flat time: 0.283922\n",
      "Total time: 25.447621\n"
     ]
    }
   ],
   "source": [
    "!mpirun -np 4 d8flowdir -fel fel.tif -p p.tif -sd8 sd8.tif"
   ]
  },
  {
   "cell_type": "markdown",
   "metadata": {
    "slideshow": {
     "slide_type": "subslide"
    }
   },
   "source": [
    "<img src=\"http://cybergis.cigi.uiuc.edu/images/v5.svg\" width=\"15\" style=\"float:left\"/>&nbsp;<span style=\"font-family:Times; font-size:1.2em\">TauDEM aread8: calc contributing area with the weight grid. i.e., only the contributing area starting from the channel heads denoted in the weight grid"
   ]
  },
  {
   "cell_type": "code",
   "execution_count": 5,
   "metadata": {},
   "outputs": [
    {
     "name": "stdout",
     "output_type": "stream",
     "text": [
      "AreaD8 version 5.3.9\n",
      "Input file p.tif has geographic coordinate system.\n",
      "This run may take on the order of 1 minutes to complete.\n",
      "This estimate is very approximate. \n",
      "Run time is highly uncertain as it depends on the complexity of the input data \n",
      "and speed and memory of the computer. This estimate is based on our testing on \n",
      "a dual quad core Dell Xeon E5405 2.0GHz PC with 16GB RAM.\n",
      "Nodata value input to create partition from file: -32768.000000\n",
      "Nodata value recast to int16_t used in partition raster: -32768\n",
      "Input file weights.tif has geographic coordinate system.\n",
      "Nodata value input to create partition from file: -10000000000.000000\n",
      "Nodata value recast to float used in partition raster: -10000000000.000000\n",
      "Number of Processes: 4\n",
      "Read time: 0.117557\n",
      "Compute time: 2.100869\n",
      "Write time: 0.095599\n",
      "Total time: 2.314024\n"
     ]
    }
   ],
   "source": [
    "!mpirun -np 4 aread8 -p p.tif -ad8 ssa.tif -wg weights.tif -nc "
   ]
  },
  {
   "cell_type": "markdown",
   "metadata": {
    "slideshow": {
     "slide_type": "subslide"
    }
   },
   "source": [
    "<img src=\"http://cybergis.cigi.uiuc.edu/images/v5.svg\" width=\"15\" style=\"float:left\"/>&nbsp;<span style=\"font-family:Times; font-size:1.2em\">From the contributing area, extract streams areas (cellvalue = 1)"
   ]
  },
  {
   "cell_type": "code",
   "execution_count": 7,
   "metadata": {},
   "outputs": [
    {
     "name": "stdout",
     "output_type": "stream",
     "text": [
      "Threshold version 5.3.9\n",
      "Input file ssa.tif has geographic coordinate system.\n",
      "This run may take on the order of 1 minutes to complete.\n",
      "This estimate is very approximate. \n",
      "Run time is highly uncertain as it depends on the complexity of the input data \n",
      "and speed and memory of the computer. This estimate is based on our testing on \n",
      "a dual quad core Dell Xeon E5405 2.0GHz PC with 16GB RAM.\n",
      "Nodata value input to create partition from file: -1.000000\n",
      "Nodata value recast to float used in partition raster: -1.000000\n",
      "Compute time: 0.045954\n"
     ]
    }
   ],
   "source": [
    "!mpirun -np 4 threshold -ssa ssa.tif -src src.tif -thresh 1"
   ]
  },
  {
   "cell_type": "code",
   "execution_count": 8,
   "metadata": {},
   "outputs": [
    {
     "name": "stdout",
     "output_type": "stream",
     "text": [
      "0...10...20...30...40...50...60...70...80...90...100 - done.\n",
      "Generating Base Tiles:\n",
      "0...10...20...30...40...50...60...70...80...90...100\n",
      "Generating Overview Tiles:\n",
      "0...10...20...30...40...50...60...70...80...90...100\n"
     ]
    }
   ],
   "source": [
    "!gdaldem color-relief src.tif data/src.clr src-color.tif -of GTiff -alpha -nearest_color_entry\n",
    "!gdal2tiles.py -e -z 9-14 -a 0,0,0 -s epsg:4326 -r bilinear src-color.tif src-color "
   ]
  },
  {
   "cell_type": "code",
   "execution_count": 9,
   "metadata": {
    "slideshow": {
     "slide_type": "subslide"
    }
   },
   "outputs": [
    {
     "ename": "ModuleNotFoundError",
     "evalue": "No module named 'cybergis'",
     "output_type": "error",
     "traceback": [
      "\u001b[0;31m---------------------------------------------------------------------------\u001b[0m",
      "\u001b[0;31mModuleNotFoundError\u001b[0m                       Traceback (most recent call last)",
      "\u001b[0;32m<ipython-input-9-dd0d1f939a6d>\u001b[0m in \u001b[0;36m<module>\u001b[0;34m\u001b[0m\n\u001b[0;32m----> 1\u001b[0;31m \u001b[0;32mfrom\u001b[0m \u001b[0mcybergis\u001b[0m \u001b[0;32mimport\u001b[0m \u001b[0mFloret\u001b[0m\u001b[0;34m\u001b[0m\u001b[0;34m\u001b[0m\u001b[0m\n\u001b[0m\u001b[1;32m      2\u001b[0m \u001b[0mFloret\u001b[0m\u001b[0;34m(\u001b[0m\u001b[0;34m'DEM-Derived streamline'\u001b[0m\u001b[0;34m,\u001b[0m\u001b[0;34m'src'\u001b[0m\u001b[0;34m)\u001b[0m\u001b[0;31m\\\u001b[0m\u001b[0;34m\u001b[0m\u001b[0;34m\u001b[0m\u001b[0m\n\u001b[1;32m      3\u001b[0m \u001b[0;34m.\u001b[0m\u001b[0maddTMSLayer\u001b[0m\u001b[0;34m(\u001b[0m\u001b[0;34m'Derived Streamline'\u001b[0m\u001b[0;34m,\u001b[0m \u001b[0;34m'src-color'\u001b[0m\u001b[0;34m)\u001b[0m\u001b[0;31m\\\u001b[0m\u001b[0;34m\u001b[0m\u001b[0;34m\u001b[0m\u001b[0m\n\u001b[1;32m      4\u001b[0m \u001b[0;34m.\u001b[0m\u001b[0maddGeoJson\u001b[0m\u001b[0;34m(\u001b[0m\u001b[0;34m'Flowline'\u001b[0m\u001b[0;34m,\u001b[0m\u001b[0;34m'flowline.json'\u001b[0m\u001b[0;34m)\u001b[0m\u001b[0;34m.\u001b[0m\u001b[0mdisplay\u001b[0m\u001b[0;34m(\u001b[0m\u001b[0;34m)\u001b[0m\u001b[0;34m\u001b[0m\u001b[0;34m\u001b[0m\u001b[0m\n",
      "\u001b[0;31mModuleNotFoundError\u001b[0m: No module named 'cybergis'"
     ]
    }
   ],
   "source": [
    "from cybergis import Floret\n",
    "Floret('DEM-Derived streamline','src')\\\n",
    ".addTMSLayer('Derived Streamline', 'src-color')\\\n",
    ".addGeoJson('Flowline','flowline.json').display()"
   ]
  },
  {
   "cell_type": "markdown",
   "metadata": {
    "slideshow": {
     "slide_type": "subslide"
    }
   },
   "source": [
    "## 2.3 Calculate HAND\n",
    "\n",
    "<img src=\"http://cybergis.cigi.uiuc.edu/images/v5.svg\" width=\"15\" style=\"float:left\"/>&nbsp;<span style=\"font-family:Times; font-size:1.2em\">With the d$\\infty$ flowing routing and a stream grid that we know water flows on, calc HAND. We use vertical distance here; but horizontal distance or the combination can be used."
   ]
  },
  {
   "cell_type": "code",
   "execution_count": 10,
   "metadata": {},
   "outputs": [
    {
     "name": "stdout",
     "output_type": "stream",
     "text": [
      "DinfDistDown -v version 5.3.9\n",
      "Input file ang.tif has geographic coordinate system.\n",
      "This run may take on the order of 1 minutes to complete.\n",
      "This estimate is very approximate. \n",
      "Run time is highly uncertain as it depends on the complexity of the input data \n",
      "and speed and memory of the computer. This estimate is based on our testing on \n",
      "a dual quad core Dell Xeon E5405 2.0GHz PC with 16GB RAM.\n",
      "Nodata value input to create partition from file: -340282346638528859811704183484516925440.000000\n",
      "Nodata value recast to float used in partition raster: -340282346638528859811704183484516925440.000000\n",
      "Input file fel.tif has geographic coordinate system.\n",
      "Nodata value input to create partition from file: -300000000549775575777803994281145270272.000000\n",
      "Nodata value recast to float used in partition raster: -300000000549775575777803994281145270272.000000\n",
      "Input file src.tif has geographic coordinate system.\n",
      "Nodata value input to create partition from file: -32768.000000\n",
      "Nodata value recast to int16_t used in partition raster: -32768\n",
      "Processors: 4\n",
      "Read time: 0.372623\n",
      "Compute time: 5.742031\n",
      "Write time: 0.636512\n",
      "Total time: 6.751165\n"
     ]
    }
   ],
   "source": [
    "!mpirun -np 4 dinfdistdown -fel fel.tif -ang ang.tif -src src.tif -dd hand.tif -m ave v"
   ]
  },
  {
   "cell_type": "code",
   "execution_count": 11,
   "metadata": {
    "slideshow": {
     "slide_type": "subslide"
    }
   },
   "outputs": [
    {
     "name": "stdout",
     "output_type": "stream",
     "text": [
      "0...10...20...30...40...50...60...70...80...90...100 - done.\n",
      "Generating Base Tiles:\n",
      "0...10...20...30...40...50...60...70...80...90...100\n",
      "Generating Overview Tiles:\n",
      "0...10...20...30...40...50...60...70...80...90...100\n"
     ]
    }
   ],
   "source": [
    "# Colorization and tiling\n",
    "!rm -rf ang-color\n",
    "!gdaldem color-relief ang.tif data/ang.clr ang-color.tif -of GTiff -alpha\n",
    "!gdal2tiles.py -e -z 9-14 -a 0,0,0 -s epsg:4326 -r bilinear ang-color.tif ang-color "
   ]
  },
  {
   "cell_type": "code",
   "execution_count": 12,
   "metadata": {
    "slideshow": {
     "slide_type": "subslide"
    }
   },
   "outputs": [
    {
     "ename": "ModuleNotFoundError",
     "evalue": "No module named 'cybergis'",
     "output_type": "error",
     "traceback": [
      "\u001b[0;31m---------------------------------------------------------------------------\u001b[0m",
      "\u001b[0;31mModuleNotFoundError\u001b[0m                       Traceback (most recent call last)",
      "\u001b[0;32m<ipython-input-12-6d2468f3db6a>\u001b[0m in \u001b[0;36m<module>\u001b[0;34m\u001b[0m\n\u001b[0;32m----> 1\u001b[0;31m \u001b[0;32mfrom\u001b[0m \u001b[0mcybergis\u001b[0m \u001b[0;32mimport\u001b[0m \u001b[0mFloret\u001b[0m\u001b[0;34m\u001b[0m\u001b[0;34m\u001b[0m\u001b[0m\n\u001b[0m\u001b[1;32m      2\u001b[0m \u001b[0mFloret\u001b[0m\u001b[0;34m(\u001b[0m\u001b[0;34m'Dinf Distancedown'\u001b[0m\u001b[0;34m,\u001b[0m\u001b[0;34m'ang'\u001b[0m\u001b[0;34m)\u001b[0m\u001b[0;31m\\\u001b[0m\u001b[0;34m\u001b[0m\u001b[0;34m\u001b[0m\u001b[0m\n\u001b[1;32m      3\u001b[0m \u001b[0;34m.\u001b[0m\u001b[0maddTMSLayer\u001b[0m\u001b[0;34m(\u001b[0m\u001b[0;34m'Dinf'\u001b[0m\u001b[0;34m,\u001b[0m \u001b[0;34m'ang-color'\u001b[0m\u001b[0;34m)\u001b[0m\u001b[0;31m\\\u001b[0m\u001b[0;34m\u001b[0m\u001b[0;34m\u001b[0m\u001b[0m\n\u001b[1;32m      4\u001b[0m \u001b[0;34m.\u001b[0m\u001b[0maddGeoJson\u001b[0m\u001b[0;34m(\u001b[0m\u001b[0;34m'Flowline'\u001b[0m\u001b[0;34m,\u001b[0m\u001b[0;34m'flowline.json'\u001b[0m\u001b[0;34m)\u001b[0m\u001b[0;34m.\u001b[0m\u001b[0mdisplay\u001b[0m\u001b[0;34m(\u001b[0m\u001b[0;34m)\u001b[0m\u001b[0;34m\u001b[0m\u001b[0;34m\u001b[0m\u001b[0m\n",
      "\u001b[0;31mModuleNotFoundError\u001b[0m: No module named 'cybergis'"
     ]
    }
   ],
   "source": [
    "from cybergis import Floret\n",
    "Floret('Dinf Distancedown','ang')\\\n",
    ".addTMSLayer('Dinf', 'ang-color')\\\n",
    ".addGeoJson('Flowline','flowline.json').display()"
   ]
  },
  {
   "cell_type": "code",
   "execution_count": 13,
   "metadata": {
    "slideshow": {
     "slide_type": "subslide"
    }
   },
   "outputs": [
    {
     "name": "stdout",
     "output_type": "stream",
     "text": [
      "0...10...20...30...40...50...60...70...80...90...100 - done.\n",
      "Generating Base Tiles:\n",
      "0...10...20...30...40...50...60...70...80...90...100\n",
      "Generating Overview Tiles:\n",
      "0...10...20...30...40...50...60...70...80...90...100\n"
     ]
    }
   ],
   "source": [
    "# Colorization and tiling\n",
    "!gdaldem color-relief hand.tif data/HAND-blues.clr hand-color.tif -of GTiff -alpha\n",
    "!gdal2tiles.py -e -z 9-14 -a 0,0,0 -s epsg:4326 -r bilinear hand-color.tif hand-color "
   ]
  },
  {
   "cell_type": "code",
   "execution_count": 14,
   "metadata": {
    "slideshow": {
     "slide_type": "subslide"
    }
   },
   "outputs": [
    {
     "ename": "ModuleNotFoundError",
     "evalue": "No module named 'cybergis'",
     "output_type": "error",
     "traceback": [
      "\u001b[0;31m---------------------------------------------------------------------------\u001b[0m",
      "\u001b[0;31mModuleNotFoundError\u001b[0m                       Traceback (most recent call last)",
      "\u001b[0;32m<ipython-input-14-b2a332a62180>\u001b[0m in \u001b[0;36m<module>\u001b[0;34m\u001b[0m\n\u001b[0;32m----> 1\u001b[0;31m \u001b[0;32mfrom\u001b[0m \u001b[0mcybergis\u001b[0m \u001b[0;32mimport\u001b[0m \u001b[0mFloret\u001b[0m\u001b[0;34m\u001b[0m\u001b[0;34m\u001b[0m\u001b[0m\n\u001b[0m\u001b[1;32m      2\u001b[0m \u001b[0mFloret\u001b[0m\u001b[0;34m(\u001b[0m\u001b[0;34m'Onion Creek HAND'\u001b[0m\u001b[0;34m,\u001b[0m \u001b[0;34m'onion-hand'\u001b[0m\u001b[0;34m)\u001b[0m\u001b[0;31m\\\u001b[0m\u001b[0;34m\u001b[0m\u001b[0;34m\u001b[0m\u001b[0m\n\u001b[1;32m      3\u001b[0m \u001b[0;34m.\u001b[0m\u001b[0maddTMSLayer\u001b[0m\u001b[0;34m(\u001b[0m\u001b[0;34m'DEM'\u001b[0m\u001b[0;34m,\u001b[0m \u001b[0;34m'Onion3-hillshade'\u001b[0m\u001b[0;34m)\u001b[0m\u001b[0;31m\\\u001b[0m\u001b[0;34m\u001b[0m\u001b[0;34m\u001b[0m\u001b[0m\n\u001b[1;32m      4\u001b[0m \u001b[0;34m.\u001b[0m\u001b[0maddTMSLayer\u001b[0m\u001b[0;34m(\u001b[0m\u001b[0;34m'HAND'\u001b[0m\u001b[0;34m,\u001b[0m \u001b[0;34m'hand-color'\u001b[0m\u001b[0;34m)\u001b[0m\u001b[0;31m\\\u001b[0m\u001b[0;34m\u001b[0m\u001b[0;34m\u001b[0m\u001b[0m\n\u001b[1;32m      5\u001b[0m \u001b[0;34m.\u001b[0m\u001b[0maddGeoJson\u001b[0m\u001b[0;34m(\u001b[0m\u001b[0;34m'Flowline'\u001b[0m\u001b[0;34m,\u001b[0m \u001b[0;34m'flowline.json'\u001b[0m\u001b[0;34m)\u001b[0m\u001b[0;31m\\\u001b[0m\u001b[0;34m\u001b[0m\u001b[0;34m\u001b[0m\u001b[0m\n",
      "\u001b[0;31mModuleNotFoundError\u001b[0m: No module named 'cybergis'"
     ]
    }
   ],
   "source": [
    "from cybergis import Floret\n",
    "Floret('Onion Creek HAND', 'onion-hand')\\\n",
    ".addTMSLayer('DEM', 'Onion3-hillshade')\\\n",
    ".addTMSLayer('HAND', 'hand-color')\\\n",
    ".addGeoJson('Flowline', 'flowline.json')\\\n",
    ".display()"
   ]
  },
  {
   "cell_type": "markdown",
   "metadata": {
    "slideshow": {
     "slide_type": "slide"
    }
   },
   "source": [
    "# 3. Application\n",
    "<img src=\"http://cybergis.cigi.uiuc.edu/images/v5.svg\" width=\"15\" style=\"float:left\"/>&nbsp;<span style=\"font-family:Times; font-size:1.2em\">\n",
    "Whose homes will be flooded if a 5m flood take place?"
   ]
  },
  {
   "cell_type": "code",
   "execution_count": 15,
   "metadata": {},
   "outputs": [
    {
     "name": "stdout",
     "output_type": "stream",
     "text": [
      "0.. 0.. 0.. 0.. 0.. 0.. 0.. 0.. 0.. 0.. 0.. 0.. 0.. 0.. 0.. 0.. 0.. 0.. 0.. 0.. 0.. 0.. 0.. 0.. 0.. 0.. 0.. 0.. 1.. 1.. 1.. 1.. 1.. 1.. 1.. 1.. 1.. 1.. 1.. 1.. 1.. 1.. 1.. 1.. 1.. 1.. 1.. 1.. 1.. 1.. 1.. 1.. 1.. 1.. 1.. 1.. 2.. 2.. 2.. 2.. 2.. 2.. 2.. 2.. 2.. 2.. 2.. 2.. 2.. 2.. 2.. 2.. 2.. 2.. 2.. 2.. 2.. 2.. 2.. 2.. 2.. 2.. 2.. 3.. 3.. 3.. 3.. 3.. 3.. 3.. 3.. 3.. 3.. 3.. 3.. 3.. 3.. 3.. 3.. 3.. 3.. 3.. 3.. 3.. 3.. 3.. 3.. 3.. 3.. 3.. 3.. 4.. 4.. 4.. 4.. 4.. 4.. 4.. 4.. 4.. 4.. 4.. 4.. 4.. 4.. 4.. 4.. 4.. 4.. 4.. 4.. 4.. 4.. 4.. 4.. 4.. 4.. 4.. 4.. 5.. 5.. 5.. 5.. 5.. 5.. 5.. 5.. 5.. 5.. 5.. 5.. 5.. 5.. 5.. 5.. 5.. 5.. 5.. 5.. 5.. 5.. 5.. 5.. 5.. 5.. 5.. 6.. 6.. 6.. 6.. 6.. 6.. 6.. 6.. 6.. 6.. 6.. 6.. 6.. 6.. 6.. 6.. 6.. 6.. 6.. 6.. 6.. 6.. 6.. 6.. 6.. 6.. 6.. 6.. 7.. 7.. 7.. 7.. 7.. 7.. 7.. 7.. 7.. 7.. 7.. 7.. 7.. 7.. 7.. 7.. 7.. 7.. 7.. 7.. 7.. 7.. 7.. 7.. 7.. 7.. 7.. 8.. 8.. 8.. 8.. 8.. 8.. 8.. 8.. 8.. 8.. 8.. 8.. 8.. 8.. 8.. 8.. 8.. 8.. 8.. 8.. 8.. 8.. 8.. 8.. 8.. 8.. 8.. 8.. 9.. 9.. 9.. 9.. 9.. 9.. 9.. 9.. 9.. 9.. 9.. 9.. 9.. 9.. 9.. 9.. 9.. 9.. 9.. 9.. 9.. 9.. 9.. 9.. 9.. 9.. 9.. 9.. 10.. 10.. 10.. 10.. 10.. 10.. 10.. 10.. 10.. 10.. 10.. 10.. 10.. 10.. 10.. 10.. 10.. 10.. 10.. 10.. 10.. 10.. 10.. 10.. 10.. 10.. 10.. 11.. 11.. 11.. 11.. 11.. 11.. 11.. 11.. 11.. 11.. 11.. 11.. 11.. 11.. 11.. 11.. 11.. 11.. 11.. 11.. 11.. 11.. 11.. 11.. 11.. 11.. 11.. 11.. 12.. 12.. 12.. 12.. 12.. 12.. 12.. 12.. 12.. 12.. 12.. 12.. 12.. 12.. 12.. 12.. 12.. 12.. 12.. 12.. 12.. 12.. 12.. 12.. 12.. 12.. 12.. 13.. 13.. 13.. 13.. 13.. 13.. 13.. 13.. 13.. 13.. 13.. 13.. 13.. 13.. 13.. 13.. 13.. 13.. 13.. 13.. 13.. 13.. 13.. 13.. 13.. 13.. 13.. 13.. 14.. 14.. 14.. 14.. 14.. 14.. 14.. 14.. 14.. 14.. 14.. 14.. 14.. 14.. 14.. 14.. 14.. 14.. 14.. 14.. 14.. 14.. 14.. 14.. 14.. 14.. 14.. 14.. 15.. 15.. 15.. 15.. 15.. 15.. 15.. 15.. 15.. 15.. 15.. 15.. 15.. 15.. 15.. 15.. 15.. 15.. 15.. 15.. 15.. 15.. 15.. 15.. 15.. 15.. 15.. 16.. 16.. 16.. 16.. 16.. 16.. 16.. 16.. 16.. 16.. 16.. 16.. 16.. 16.. 16.. 16.. 16.. 16.. 16.. 16.. 16.. 16.. 16.. 16.. 16.. 16.. 16.. 16.. 17.. 17.. 17.. 17.. 17.. 17.. 17.. 17.. 17.. 17.. 17.. 17.. 17.. 17.. 17.. 17.. 17.. 17.. 17.. 17.. 17.. 17.. 17.. 17.. 17.. 17.. 17.. 18.. 18.. 18.. 18.. 18.. 18.. 18.. 18.. 18.. 18.. 18.. 18.. 18.. 18.. 18.. 18.. 18.. 18.. 18.. 18.. 18.. 18.. 18.. 18.. 18.. 18.. 18.. 18.. 19.. 19.. 19.. 19.. 19.. 19.. 19.. 19.. 19.. 19.. 19.. 19.. 19.. 19.. 19.. 19.. 19.. 19.. 19.. 19.. 19.. 19.. 19.. 19.. 19.. 19.. 19.. 19.. 20.. 20.. 20.. 20.. 20.. 20.. 20.. 20.. 20.. 20.. 20.. 20.. 20.. 20.. 20.. 20.. 20.. 20.. 20.. 20.. 20.. 20.. 20.. 20.. 20.. 20.. 20.. 21.. 21.. 21.. 21.. 21.. 21.. 21.. 21.. 21.. 21.. 21.. 21.. 21.. 21.. 21.. 21.. 21.. 21.. 21.. 21.. 21.. 21.. 21.. 21.. 21.. 21.. 21.. 21.. 22.. 22.. 22.. 22.. 22.. 22.. 22.. 22.. 22.. 22.. 22.. 22.. 22.. 22.. 22.. 22.. 22.. 22.. 22.. 22.. 22.. 22.. 22.. 22.. 22.. 22.. 22.. 22.. 23.. 23.. 23.. 23.. 23.. 23.. 23.. 23.. 23.. 23.. 23.. 23.. 23.. 23.. 23.. 23.. 23.. 23.. 23.. 23.. 23.. 23.. 23.. 23.. 23.. 23.. 23.. 24.. 24.. 24.. 24.. 24.. 24.. 24.. 24.. 24.. 24.. 24.. 24.. 24.. 24.. 24.. 24.. 24.. 24.. 24.. 24.. 24.. 24.. 24.. 24.. 24.. 24.. 24.. 24.. 25.. 25.. 25.. 25.. 25.. 25.. 25.. 25.. 25.. 25.. 25.. 25.. 25.. 25.. 25.. 25.. 25.. 25.. 25.. 25.. 25.. 25.. 25.. 25.. 25.. 25.. 25.. 26.. 26.. 26.. 26.. 26.. 26.. 26.. 26.. 26.. 26.. 26.. 26.. 26.. 26.. 26.. 26.. 26.. 26.. 26.. 26.. 26.. 26.. 26.. 26.. 26.. 26.. 26.. 26.. 27.. 27.. 27.. 27.. 27.. 27.. 27.. 27.. 27.. 27.. 27.. 27.. 27.. 27.. 27.. 27.. 27.. 27.. 27.. 27.. 27.. 27.. 27.. 27.. 27.. 27.. 27.. 27.. 28.. 28.. 28.. 28.. 28.. 28.. 28.. 28.. 28.. 28.. 28.. 28.. 28.. 28.. 28.. 28.. 28.. 28.. 28.. 28.. 28.. 28.. 28.. 28.. 28.. 28.. 28.. 29.. 29.. 29.. 29.. 29.. 29.. 29.. 29.. 29.. 29.. 29.. 29.. 29.. 29.. 29.. 29.. 29.. 29.. 29.. 29.. 29.. 29.. 29.. 29.. 29.. 29.. 29.. 29.. 30.. 30.. 30.. 30.. 30.. 30.. 30.. 30.. 30.. 30.. 30.. 30.. 30.. 30.. 30.. 30.. 30.. 30.. 30.. 30.. 30.. 30.. 30.. 30.. 30.. 30.. 30.. 31.. 31.. 31.. 31.. 31.. 31.. 31.. 31.. 31.. 31.. 31.. 31.. 31.. 31.. 31.. 31.. 31.. 31.. 31.. 31.. 31.. 31.. 31.. 31.. 31.. 31.. 31.. 31.. 32.. 32.. 32.. 32.. 32.. 32.. 32.. 32.. 32.. 32.. 32.. 32.. 32.. 32.. 32.. 32.. 32.. 32.. 32.. 32.. 32.. 32.. 32.. 32.. 32.. 32.. 32.. 32.. 33.. 33.. 33.. 33.. 33.. 33.. 33.. 33.. 33.. 33.. 33.. 33.. 33.. 33.. 33.. 33.. 33.. 33.. 33.. 33.. 33.. 33.. 33.. 33.. 33.. 33.. 33.. 34.. 34.. 34.. 34.. 34.. 34.. 34.. 34.. 34.. 34.. 34.. 34.. 34.. 34.. 34.. 34.. 34.. 34.. 34.. 34.. 34.. 34.. 34.. 34.. 34.. 34.. 34.. 34.. 35.. 35.. 35.. 35.. 35.. 35.. 35.. 35.. 35.. 35.. 35.. 35.. 35.. 35.. 35.. 35.. 35.. 35.. 35.. 35.. 35.. 35.. 35.. 35.. 35.. 35.. 35.. 36.. 36.. 36.. 36.. 36.. 36.. 36.. 36.. 36.. 36.. 36.. 36.. 36.. 36.. 36.. 36.. 36.. 36.. 36.. 36.. 36.. 36.. 36.. 36.. 36.. 36.. 36.. 36.. 37.. 37.. 37.. 37.. 37.. 37.. 37.. 37.. 37.. 37.. 37.. 37.. 37.. 37.. 37.. 37.. 37.. 37.. 37.. 37.. 37.. 37.. 37.. 37.. 37.. 37.. 37.. 37.. 38.. 38.. 38.. 38.. 38.. 38.. 38.. 38.. 38.. 38.. 38.. 38.. 38.. 38.. 38.. 38.. 38.. 38.. 38.. 38.. 38.. 38.. 38.. 38.. 38.. 38.. 38.. 39.. 39.. 39.. 39.. 39.. 39.. 39.. 39.. 39.. 39.. 39.. 39.. 39.. 39.. 39.. 39.. 39.. 39.. 39.. 39.. 39.. 39.. 39.. 39.. 39.. 39.. 39.. 39.. 40.. 40.. 40.. 40.. 40.. 40.. 40.. 40.. 40.. 40.. 40.. 40.. 40.. 40.. 40.. 40.. 40.. 40.. 40.. 40.. 40.. 40.. 40.. 40.. 40.. 40.. 40.. 40.. 41.. 41.. 41.. 41.. 41.. 41.. 41.. 41.. 41.. 41.. 41.. 41.. 41.. 41.. 41.. 41.. 41.. 41.. 41.. 41.. 41.. 41.. 41.. 41.. 41.. 41.. 41.. 42.. 42.. 42.. 42.. 42.. 42.. 42.. 42.. 42.. 42.. 42.. 42.. 42.. 42.. 42.. 42.. 42.. 42.. 42.. 42.. 42.. 42.. 42.. 42.. 42.. 42.. 42.. 42.. 43.. 43.. 43.. 43.. 43.. 43.. 43.. 43.. 43.. 43.. 43.. 43.. 43.. 43.. 43.. 43.. 43.. 43.. 43.. 43.. 43.. 43.. 43.. 43.. 43.. 43.. 43.. 44.. 44.. 44.. 44.. 44.. 44.. 44.. 44.. 44.. 44.. 44.. 44.. 44.. 44.. 44.. 44.. 44.. 44.. 44.. 44.. 44.. 44.. 44.. 44.. 44.. 44.. 44.. 44.. 45.. 45.. 45.. 45.. 45.. 45.. 45.. 45.. 45.. 45.. 45.. 45.. 45.. 45.. 45.. 45.. 45.. 45.. 45.. 45.. 45.. 45.. 45.. 45.. 45.. 45.. 45.. 45.. 46.. 46.. 46.. 46.. 46.. 46.. 46.. 46.. 46.. 46.. 46.. 46.. 46.. 46.. 46.. 46.. 46.. 46.. 46.. 46.. 46.. 46.. 46.. 46.. 46.. 46.. 46.. 47.. 47.. 47.. 47.. 47.. 47.. 47.. 47.. 47.. 47.. 47.. 47.. 47.. 47.. 47.. 47.. 47.. 47.. 47.. 47.. 47.. 47.. 47.. 47.. 47.. 47.. 47.. 47.. 48.. 48.. 48.. 48.. 48.. 48.. 48.. 48.. 48.. 48.. 48.. 48.. 48.. 48.. 48.. 48.. 48.. 48.. 48.. 48.. 48.. 48.. 48.. 48.. 48.. 48.. 48.. 49.. 49.. 49.. 49.. 49.. 49.. 49.. 49.. 49.. 49.. 49.. 49.. 49.. 49.. 49.. 49.. 49.. 49.. 49.. 49.. 49.. 49.. 49.. 49.. 49.. 49.. 49.. 49.. 50.. 50.. 50.. 50.. 50.. 50.. 50.. 50.. 50.. 50.. 50.. 50.. 50.. 50.. 50.. 50.. 50.. 50.. 50.. 50.. 50.. 50.. 50.. 50.. 50.. 50.. 50.. 50.. 51.. 51.. 51.. 51.. 51.. 51.. 51.. 51.. 51.. 51.. 51.. 51.. 51.. 51.. 51.. 51.. 51.. 51.. 51.. 51.. 51.. 51.. 51.. 51.. 51.. 51.. 51.. 52.. 52.. 52.. 52.. 52.. 52.. 52.. 52.. 52.. 52.. 52.. 52.. 52.. 52.. 52.. 52.. 52.. 52.. 52.. 52.. 52.. 52.. 52.. 52.. 52.. 52.. 52.. 52.. 53.. 53.. 53.. 53.. 53.. 53.. 53.. 53.. 53.. 53.. 53.. 53.. 53.. 53.. 53.. 53.. 53.. 53.. 53.. 53.. 53.. 53.. 53.. 53.. 53.. 53.. 53.. 54.. 54.. 54.. 54.. 54.. 54.. 54.. 54.. 54.. 54.. 54.. 54.. 54.. 54.. 54.. 54.. 54.. 54.. 54.. 54.. 54.. 54.. 54.. 54.. 54.. 54.. 54.. 54.. 55.. 55.. 55.. 55.. 55.. 55.. 55.. 55.. 55.. 55.. 55.. 55.. 55.. 55.. 55.. 55.. 55.. 55.. 55.. 55.. 55.. 55.. 55.. 55.. 55.. 55.. 55.. 55.. 56.. 56.. 56.. 56.. 56.. 56.. 56.. 56.. 56.. 56.. 56.. 56.. 56.. 56.. 56.. 56.. 56.. 56.. 56.. 56.. 56.. 56.. 56.. 56.. 56.. 56.. 56.. 57.. 57.. 57.. 57.. 57.. 57.. 57.. 57.. 57.. 57.. 57.. 57.. 57.. 57.. 57.. 57.. 57.. 57.. 57.. 57.. 57.. 57.. 57.. 57.. 57.. 57.. 57.. 57.. 58.. 58.. 58.. 58.. 58.. 58.. 58.. 58.. 58.. 58.. 58.. 58.. 58.. 58.. 58.. 58.. 58.. 58.. 58.. 58.. 58.. 58.. 58.. 58.. 58.. 58.. 58.. 59.. 59.. 59.. 59.. 59.. 59.. 59.. 59.. 59.. 59.. 59.. 59.. 59.. 59.. 59.. 59.. 59.. 59.. 59.. 59.. 59.. 59.. 59.. 59.. 59.. 59.. 59.. 59.. 60.. 60.. 60.. 60.. 60.. 60.. 60.. 60.. 60.. 60.. 60.. 60.. 60.. 60.. 60.. 60.. 60.. 60.. 60.. 60.. 60.. 60.. 60.. 60.. 60.. 60.. 60.. 60.. 61.. 61.. 61.. 61.. 61.. 61.. 61.. 61.. 61.. 61.. 61.. 61.. 61.. 61.. 61.. 61.. 61.. 61.. 61.. 61.. 61.. 61.. 61.. 61.. 61.. 61.. 61.. 62.. 62.. 62.. 62.. 62.. 62.. 62.. 62.. 62.. 62.. 62.. 62.. 62.. 62.. 62.. 62.. 62.. 62.. 62.. 62.. 62.. 62.. 62.. 62.. 62.. 62.. 62.. 62.. 63.. 63.. 63.. 63.. 63.. 63.. 63.. 63.. 63.. 63.. 63.. 63.. 63.. 63.. 63.. 63.. 63.. 63.. 63.. 63.. 63.. 63.. 63.. 63.. 63.. 63.. 63.. 63.. 64.. 64.. 64.. 64.. 64.. 64.. 64.. 64.. 64.. 64.. 64.. 64.. 64.. 64.. 64.. 64.. 64.. 64.. 64.. 64.. 64.. 64.. 64.. 64.. 64.. 64.. 64.. 65.. 65.. 65.. 65.. 65.. 65.. 65.. 65.. 65.. 65.. 65.. 65.. 65.. 65.. 65.. 65.. 65.. 65.. 65.. 65.. 65.. 65.. 65.. 65.. 65.. 65.. 65.. 65.. 66.. 66.. 66.. 66.. 66.. 66.. 66.. 66.. 66.. 66.. 66.. 66.. 66.. 66.. 66.. 66.. 66.. 66.. 66.. 66.. 66.. 66.. 66.. 66.. 66.. 66.. 66.. 67.. 67.. 67.. 67.. 67.. 67.. 67.. 67.. 67.. 67.. 67.. 67.. 67.. 67.. 67.. 67.. 67.. 67.. 67.. 67.. 67.. 67.. 67.. 67.. 67.. 67.. 67.. 67.. 68.. 68.. 68.. 68.. 68.. 68.. 68.. 68.. 68.. 68.. 68.. 68.. 68.. 68.. 68.. 68.. 68.. 68.. 68.. 68.. 68.. 68.. 68.. 68.. 68.. 68.. 68.. 68.. 69.. 69.. 69.. 69.. 69.. 69.. 69.. 69.. 69.. 69.. 69.. 69.. 69.. 69.. 69.. 69.. 69.. 69.. 69.. 69.. 69.. 69.. 69.. 69.. 69.. 69.. 69.. 70.. 70.. 70.. 70.. 70.. 70.. 70.. 70.. 70.. 70.. 70.. 70.. 70.. 70.. 70.. 70.. 70.. 70.. 70.. 70.. 70.. 70.. 70.. 70.. 70.. 70.. 70.. 70.. 71.. 71.. 71.. 71.. 71.. 71.. 71.. 71.. 71.. 71.. 71.. 71.. 71.. 71.. 71.. 71.. 71.. 71.. 71.. 71.. 71.. 71.. 71.. 71.. 71.. 71.. 71.. 72.. 72.. 72.. 72.. 72.. 72.. 72.. 72.. 72.. 72.. 72.. 72.. 72.. 72.. 72.. 72.. 72.. 72.. 72.. 72.. 72.. 72.. 72.. 72.. 72.. 72.. 72.. 72.. 73.. 73.. 73.. 73.. 73.. 73.. 73.. 73.. 73.. 73.. 73.. 73.. 73.. 73.. 73.. 73.. 73.. 73.. 73.. 73.. 73.. 73.. 73.. 73.. 73.. 73.. 73.. 73.. 74.. 74.. 74.. 74.. 74.. 74.. 74.. 74.. 74.. 74.. 74.. 74.. 74.. 74.. 74.. 74.. 74.. 74.. 74.. 74.. 74.. 74.. 74.. 74.. 74.. 74.. 74.. 75.. 75.. 75.. 75.. 75.. 75.. 75.. 75.. 75.. 75.. 75.. 75.. 75.. 75.. 75.. 75.. 75.. 75.. 75.. 75.. 75.. 75.. 75.. 75.. 75.. 75.. 75.. 75.. 76.. 76.. 76.. 76.. 76.. 76.. 76.. 76.. 76.. 76.. 76.. 76.. 76.. 76.. 76.. 76.. 76.. 76.. 76.. 76.. 76.. 76.. 76.. 76.. 76.. 76.. 76.. 77.. 77.. 77.. 77.. 77.. 77.. 77.. 77.. 77.. 77.. 77.. 77.. 77.. 77.. 77.. 77.. 77.. 77.. 77.. 77.. 77.. 77.. 77.. 77.. 77.. 77.. 77.. 77.. 78.. 78.. 78.. 78.. 78.. 78.. 78.. 78.. 78.. 78.. 78.. 78.. 78.. 78.. 78.. 78.. 78.. 78.. 78.. 78.. 78.. 78.. 78.. 78.. 78.. 78.. 78.. 78.. 79.. 79.. 79.. 79.. 79.. 79.. 79.. 79.. 79.. 79.. 79.. 79.. 79.. 79.. 79.. 79.. 79.. 79.. 79.. 79.. 79.. 79.. 79.. 79.. 79.. 79.. 79.. 80.. 80.. 80.. 80.. 80.. 80.. 80.. 80.. 80.. 80.. 80.. 80.. 80.. 80.. 80.. 80.. 80.. 80.. 80.. 80.. 80.. 80.. 80.. 80.. 80.. 80.. 80.. 80.. 81.. 81.. 81.. 81.. 81.. 81.. 81.. 81.. 81.. 81.. 81.. 81.. 81.. 81.. 81.. 81.. 81.. 81.. 81.. 81.. 81.. 81.. 81.. 81.. 81.. 81.. 81.. 81.. 82.. 82.. 82.. 82.. 82.. 82.. 82.. 82.. 82.. 82.. 82.. 82.. 82.. 82.. 82.. 82.. 82.. 82.. 82.. 82.. 82.. 82.. 82.. 82.. 82.. 82.. 82.. 83.. 83.. 83.. 83.. 83.. 83.. 83.. 83.. 83.. 83.. 83.. 83.. 83.. 83.. 83.. 83.. 83.. 83.. 83.. 83.. 83.. 83.. 83.. 83.. 83.. 83.. 83.. 83.. 84.. 84.. 84.. 84.. 84.. 84.. 84.. 84.. 84.. 84.. 84.. 84.. 84.. 84.. 84.. 84.. 84.. 84.. 84.. 84.. 84.. 84.. 84.. 84.. 84.. 84.. 84.. 85.. 85.. 85.. 85.. 85.. 85.. 85.. 85.. 85.. 85.. 85.. 85.. 85.. 85.. 85.. 85.. 85.. 85.. 85.. 85.. 85.. 85.. 85.. 85.. 85.. 85.. 85.. 85.. 86.. 86.. 86.. 86.. 86.. 86.. 86.. 86.. 86.. 86.. 86.. 86.. 86.. 86.. 86.. 86.. 86.. 86.. 86.. 86.. 86.. 86.. 86.. 86.. 86.. 86.. 86.. 86.. 87.. 87.. 87.. 87.. 87.. 87.. 87.. 87.. 87.. 87.. 87.. 87.. 87.. 87.. 87.. 87.. 87.. 87.. 87.. 87.. 87.. 87.. 87.. 87.. 87.. 87.. 87.. 88.. 88.. 88.. 88.. 88.. 88.. 88.. 88.. 88.. 88.. 88.. 88.. 88.. 88.. 88.. 88.. 88.. 88.. 88.. 88.. 88.. 88.. 88.. 88.. 88.. 88.. 88.. 88.. 89.. 89.. 89.. 89.. 89.. 89.. 89.. 89.. 89.. 89.. 89.. 89.. 89.. 89.. 89.. 89.. 89.. 89.. 89.. 89.. 89.. 89.. 89.. 89.. 89.. 89.. 89.. 90.. 90.. 90.. 90.. 90.. 90.. 90.. 90.. 90.. 90.. 90.. 90.. 90.. 90.. 90.. 90.. 90.. 90.. 90.. 90.. 90.. 90.. 90.. 90.. 90.. 90.. 90.. 90.. 91.. 91.. 91.. 91.. 91.. 91.. 91.. 91.. 91.. 91.. 91.. 91.. 91.. 91.. 91.. 91.. 91.. 91.. 91.. 91.. 91.. 91.. 91.. 91.. 91.. 91.. 91.. 91.. 92.. 92.. 92.. 92.. 92.. 92.. 92.. 92.. 92.. 92.. 92.. 92.. 92.. 92.. 92.. 92.. 92.. 92.. 92.. 92.. 92.. 92.. 92.. 92.. 92.. 92.. 92.. 93.. 93.. 93.. 93.. 93.. 93.. 93.. 93.. 93.. 93.. 93.. 93.. 93.. 93.. 93.. 93.. 93.. 93.. 93.. 93.. 93.. 93.. 93.. 93.. 93.. 93.. 93.. 93.. 94.. 94.. 94.. 94.. 94.. 94.. 94.. 94.. 94.. 94.. 94.. 94.. 94.. 94.. 94.. 94.. 94.. 94.. 94.. 94.. 94.. 94.. 94.. 94.. 94.. 94.. 94.. 95.. 95.. 95.. 95.. 95.. 95.. 95.. 95.. 95.. 95.. 95.. 95.. 95.. 95.. 95.. 95.. 95.. 95.. 95.. 95.. 95.. 95.. 95.. 95.. 95.. 95.. 95.. 95.. 96.. 96.. 96.. 96.. 96.. 96.. 96.. 96.. 96.. 96.. 96.. 96.. 96.. 96.. 96.. 96.. 96.. 96.. 96.. 96.. 96.. 96.. 96.. 96.. 96.. 96.. 96.. 96.. 97.. 97.. 97.. 97.. 97.. 97.. 97.. 97.. 97.. 97.. 97.. 97.. 97.. 97.. 97.. 97.. 97.. 97.. 97.. 97.. 97.. 97.. 97.. 97.. 97.. 97.. 97.. 98.. 98.. 98.. 98.. 98.. 98.. 98.. 98.. 98.. 98.. 98.. 98.. 98.. 98.. 98.. 98.. 98.. 98.. 98.. 98.. 98.. 98.. 98.. 98.. 98.. 98.. 98.. 98.. 99.. 99.. 99.. 99.. 99.. 99.. 99.. 99.. 99.. 99.. 99.. 99.. 99.. 99.. 99.. 99.. 99.. 99.. 99.. 99.. 99.. 99.. 99.. 99.. 99.. 99.. 99.. 100 - Done\n"
     ]
    }
   ],
   "source": [
    "# Filtering the HAND tif with threshold value\n",
    "!gdal_calc.py -A hand.tif --outfile=depth.tif --calc=\"A<=5\""
   ]
  },
  {
   "cell_type": "code",
   "execution_count": 16,
   "metadata": {},
   "outputs": [
    {
     "name": "stdout",
     "output_type": "stream",
     "text": [
      "Creating output depth.shp of format ESRI Shapefile.\n",
      "0...10...20...30...40...50...60...70...80...90...100 - done.\n"
     ]
    }
   ],
   "source": [
    "# Convert the result into polygons\n",
    "!gdal_polygonize.py depth.tif depth.shp # ed Becky"
   ]
  },
  {
   "cell_type": "markdown",
   "metadata": {},
   "source": [
    ">More about [gdal_calc.py](http://www.gdal.org/gdal_calc.py.html) and [gdal_polygonize.py](http://www.gdal.org/gdal_polygonize.html)"
   ]
  },
  {
   "cell_type": "code",
   "execution_count": 17,
   "metadata": {
    "scrolled": true,
    "slideshow": {
     "slide_type": "subslide"
    }
   },
   "outputs": [
    {
     "name": "stdout",
     "output_type": "stream",
     "text": [
      "INFO: Open of `depth.shp'\n",
      "      using driver `ESRI Shapefile' successful.\n",
      "\n",
      "Layer name: depth\n",
      "Metadata:\n",
      "  DBF_DATE_LAST_UPDATE=2023-09-27\n",
      "Geometry: Polygon\n",
      "Feature Count: 700\n",
      "Extent: (-98.297685, 30.024259) - (-97.579630, 30.270185)\n",
      "Layer SRS WKT:\n",
      "GEOGCS[\"NAD83\",\n",
      "    DATUM[\"North_American_Datum_1983\",\n",
      "        SPHEROID[\"GRS 1980\",6378137,298.257222101,\n",
      "            AUTHORITY[\"EPSG\",\"7019\"]],\n",
      "        TOWGS84[0,0,0,0,0,0,0],\n",
      "        AUTHORITY[\"EPSG\",\"6269\"]],\n",
      "    PRIMEM[\"Greenwich\",0,\n",
      "        AUTHORITY[\"EPSG\",\"8901\"]],\n",
      "    UNIT[\"degree\",0.0174532925199433,\n",
      "        AUTHORITY[\"EPSG\",\"9122\"]],\n",
      "    AUTHORITY[\"EPSG\",\"4269\"]]\n",
      "DN: Integer (9.0)\n"
     ]
    }
   ],
   "source": [
    "!ogrinfo -al -so depth.shp"
   ]
  },
  {
   "cell_type": "code",
   "execution_count": 18,
   "metadata": {},
   "outputs": [],
   "source": [
    "# Filter the target areas from background\n",
    "!ogr2ogr filtered_depth.shp depth.shp -where \"DN=1\""
   ]
  },
  {
   "cell_type": "code",
   "execution_count": 19,
   "metadata": {},
   "outputs": [],
   "source": [
    "# Convert the result to a GeoJson\n",
    "!ogr2ogr -f geojson filtered_depth.json filtered_depth.shp"
   ]
  },
  {
   "cell_type": "code",
   "execution_count": 20,
   "metadata": {},
   "outputs": [],
   "source": [
    "# The catchment of interest and the addressPoints in that catchment\n",
    "!ogr2ogr -f geojson catchment.json data/catchment.shp\n",
    "!ogr2ogr -f geojson addressPoints.json data/addressPoints.shp"
   ]
  },
  {
   "cell_type": "code",
   "execution_count": null,
   "metadata": {
    "slideshow": {
     "slide_type": "subslide"
    }
   },
   "outputs": [],
   "source": [
    "from cybergis import Floret\n",
    "m = Floret('Catchment addresses and 5m-flood', '5m')\n",
    "m.addTMSLayer('HAND', 'hand-color')\n",
    "m.addGeoJson('Vunerable Areas', 'filtered_depth.json')\n",
    "m.addGeoJson('Catchment', 'catchment.json')\n",
    "m.addGeoJson('Address Points', 'addressPoints.json')\n",
    "m.display()"
   ]
  },
  {
   "cell_type": "code",
   "execution_count": null,
   "metadata": {},
   "outputs": [],
   "source": [
    "from cybergis import Editor\n",
    "area = Editor('filtered_depth.shp')\n",
    "addr = Editor('data/addressPoints.shp')\n",
    "result=[]\n",
    "for i in range(addr.lens):\n",
    "    if -1 != area.index_of_first_feature_contains_point(*addr.shape(i).points[0]):\n",
    "        result.append(i)\n",
    "ans=addr.subshp(result)\n",
    "ans.save('vunerableAddr')\n",
    "!ogr2ogr -f geojson vunerableAddr.json vunerableAddr.shp"
   ]
  },
  {
   "cell_type": "code",
   "execution_count": null,
   "metadata": {},
   "outputs": [],
   "source": [
    "from cybergis import Floret\n",
    "m = Floret('Flooded addresses', 'flooded')\n",
    "m.addTMSLayer('HAND', 'hand-color')\n",
    "m.addGeoJson('Vunerable Areas', 'filtered_depth.json')\n",
    "m.addGeoJson('Catchment', 'catchment.json')\n",
    "m.addGeoJson('Vunerable Addresses', 'vunerableAddr.json')\n",
    "m.display()"
   ]
  },
  {
   "cell_type": "markdown",
   "metadata": {
    "slideshow": {
     "slide_type": "slide"
    }
   },
   "source": [
    "# Congratulations on reaching the end! "
   ]
  }
 ],
 "metadata": {
  "kernelspec": {
   "display_name": "TauDEM-latest-stable",
   "language": "python",
   "name": "taudem"
  },
  "language_info": {
   "codemirror_mode": {
    "name": "ipython",
    "version": 3
   },
   "file_extension": ".py",
   "mimetype": "text/x-python",
   "name": "python",
   "nbconvert_exporter": "python",
   "pygments_lexer": "ipython3",
   "version": "3.7.9"
  }
 },
 "nbformat": 4,
 "nbformat_minor": 4
}
